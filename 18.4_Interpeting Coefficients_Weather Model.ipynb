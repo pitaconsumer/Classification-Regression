{
 "cells": [
  {
   "cell_type": "markdown",
   "metadata": {},
   "source": [
    "# Question 1: Interpretation of Coefficients"
   ]
  },
  {
   "cell_type": "markdown",
   "metadata": {},
   "source": [
    "𝑒𝑥𝑝𝑒𝑛𝑑𝑖𝑡𝑢𝑟𝑒=873+0.0012𝑎𝑛𝑛𝑢𝑎𝑙_𝑖𝑛𝑐𝑜𝑚𝑒+0.00002𝑎𝑛𝑛𝑢𝑎𝑙_𝑖𝑛𝑐𝑜𝑚𝑒2−223.57ℎ𝑎𝑣𝑒_𝑘𝑖𝑑𝑠\n",
    "\n",
    "\n",
    "Our model shows that expenditure is the annual spending on recreation in US dollars. Our model shows that the bias term is 873 (represented by constant). For an increase in annual income, we see that the first person in household will spend $1.2 more on recereational speanding with an increase of $1000 in annual income. We see that the second coeffiecient shows a quadratic equation. That means, an additional 0.02 X annual income. Finally, the last coefficient shows that those with kids (our dummy variable) they will spend $223.57 less than the families without a child.\n",
    "\n",
    "We do not the statistical significancy of the above coefficients."
   ]
  },
  {
   "cell_type": "markdown",
   "metadata": {},
   "source": [
    "# Question 2: Weather Model\n",
    "1) Build a linear regression model where your target variable is the difference between the apparenttemperature and the temperature. As explanatory variables, use humidity and windspeed. Now, estimate your model using OLS. \n",
    "~Are the estimated coefficients statistically significant? \n",
    "~Are the signs of the estimated coefficients in line with your previous expectations? \n",
    "~Interpret the estimated coefficients. \n",
    "~What are the relations between the target and the explanatory variables?\n",
    "\n",
    "2) Next, include the interaction of humidity and windspeed to the model above and estimate the model using OLS. Are the coefficients statistically significant? Did the signs of the estimated coefficients for humidity and windspeed change? Interpret the estimated coefficients."
   ]
  },
  {
   "cell_type": "code",
   "execution_count": 1,
   "metadata": {},
   "outputs": [],
   "source": [
    "import numpy as np\n",
    "import pandas as pd\n",
    "import matplotlib.pyplot as plt\n",
    "from sqlalchemy import create_engine\n",
    "import statsmodels.api as sm\n",
    "\n",
    "import warnings\n",
    "warnings.filterwarnings('ignore')\n",
    "\n",
    "postgres_user = 'dsbc_student'\n",
    "postgres_pw = '7*.8G9QH21'\n",
    "postgres_host = '142.93.121.174'\n",
    "postgres_port = '5432'\n",
    "postgres_db = 'weatherinszeged'"
   ]
  },
  {
   "cell_type": "code",
   "execution_count": 2,
   "metadata": {},
   "outputs": [],
   "source": [
    "engine = create_engine('postgresql://{}:{}@{}:{}/{}'.format(\n",
    "    postgres_user, postgres_pw, postgres_host, postgres_port, postgres_db))\n",
    "weather_df = pd.read_sql_query('select * from weatherinszeged',con=engine)\n",
    "\n",
    "# no need for an open connection, as we're only doing a single query\n",
    "engine.dispose()"
   ]
  },
  {
   "cell_type": "code",
   "execution_count": 3,
   "metadata": {},
   "outputs": [
    {
     "data": {
      "text/plain": [
       "<bound method NDFrame.head of                            date        summary preciptype  temperature  \\\n",
       "0     2006-03-31 22:00:00+00:00  Partly Cloudy       rain     9.472222   \n",
       "1     2006-03-31 23:00:00+00:00  Partly Cloudy       rain     9.355556   \n",
       "2     2006-04-01 00:00:00+00:00  Mostly Cloudy       rain     9.377778   \n",
       "3     2006-04-01 01:00:00+00:00  Partly Cloudy       rain     8.288889   \n",
       "4     2006-04-01 02:00:00+00:00  Mostly Cloudy       rain     8.755556   \n",
       "...                         ...            ...        ...          ...   \n",
       "96448 2016-09-09 17:00:00+00:00  Partly Cloudy       rain    26.016667   \n",
       "96449 2016-09-09 18:00:00+00:00  Partly Cloudy       rain    24.583333   \n",
       "96450 2016-09-09 19:00:00+00:00  Partly Cloudy       rain    22.038889   \n",
       "96451 2016-09-09 20:00:00+00:00  Partly Cloudy       rain    21.522222   \n",
       "96452 2016-09-09 21:00:00+00:00  Partly Cloudy       rain    20.438889   \n",
       "\n",
       "       apparenttemperature  humidity  windspeed  windbearing  visibility  \\\n",
       "0                 7.388889      0.89    14.1197        251.0     15.8263   \n",
       "1                 7.227778      0.86    14.2646        259.0     15.8263   \n",
       "2                 9.377778      0.89     3.9284        204.0     14.9569   \n",
       "3                 5.944444      0.83    14.1036        269.0     15.8263   \n",
       "4                 6.977778      0.83    11.0446        259.0     15.8263   \n",
       "...                    ...       ...        ...          ...         ...   \n",
       "96448            26.016667      0.43    10.9963         31.0     16.1000   \n",
       "96449            24.583333      0.48    10.0947         20.0     15.5526   \n",
       "96450            22.038889      0.56     8.9838         30.0     16.1000   \n",
       "96451            21.522222      0.60    10.5294         20.0     16.1000   \n",
       "96452            20.438889      0.61     5.8765         39.0     15.5204   \n",
       "\n",
       "       loudcover  pressure                            dailysummary  \n",
       "0            0.0   1015.13       Partly cloudy throughout the day.  \n",
       "1            0.0   1015.63       Partly cloudy throughout the day.  \n",
       "2            0.0   1015.94       Partly cloudy throughout the day.  \n",
       "3            0.0   1016.41       Partly cloudy throughout the day.  \n",
       "4            0.0   1016.51       Partly cloudy throughout the day.  \n",
       "...          ...       ...                                     ...  \n",
       "96448        0.0   1014.36  Partly cloudy starting in the morning.  \n",
       "96449        0.0   1015.16  Partly cloudy starting in the morning.  \n",
       "96450        0.0   1015.66  Partly cloudy starting in the morning.  \n",
       "96451        0.0   1015.95  Partly cloudy starting in the morning.  \n",
       "96452        0.0   1016.16  Partly cloudy starting in the morning.  \n",
       "\n",
       "[96453 rows x 12 columns]>"
      ]
     },
     "execution_count": 3,
     "metadata": {},
     "output_type": "execute_result"
    }
   ],
   "source": [
    "weather_df.head"
   ]
  },
  {
   "cell_type": "code",
   "execution_count": 4,
   "metadata": {},
   "outputs": [
    {
     "data": {
      "text/plain": [
       "Index(['date', 'summary', 'preciptype', 'temperature', 'apparenttemperature',\n",
       "       'humidity', 'windspeed', 'windbearing', 'visibility', 'loudcover',\n",
       "       'pressure', 'dailysummary'],\n",
       "      dtype='object')"
      ]
     },
     "execution_count": 4,
     "metadata": {},
     "output_type": "execute_result"
    }
   ],
   "source": [
    "weather_df.columns"
   ]
  },
  {
   "cell_type": "markdown",
   "metadata": {},
   "source": [
    "## 1: Build the OLS Model"
   ]
  },
  {
   "cell_type": "code",
   "execution_count": 6,
   "metadata": {},
   "outputs": [
    {
     "name": "stdout",
     "output_type": "stream",
     "text": [
      "                            OLS Regression Results                            \n",
      "==============================================================================\n",
      "Dep. Variable:                      y   R-squared:                       0.288\n",
      "Model:                            OLS   Adj. R-squared:                  0.288\n",
      "Method:                 Least Squares   F-statistic:                 1.949e+04\n",
      "Date:                Tue, 28 Apr 2020   Prob (F-statistic):               0.00\n",
      "Time:                        14:24:51   Log-Likelihood:            -1.7046e+05\n",
      "No. Observations:               96453   AIC:                         3.409e+05\n",
      "Df Residuals:                   96450   BIC:                         3.409e+05\n",
      "Df Model:                           2                                         \n",
      "Covariance Type:            nonrobust                                         \n",
      "==============================================================================\n",
      "                 coef    std err          t      P>|t|      [0.025      0.975]\n",
      "------------------------------------------------------------------------------\n",
      "const          2.4381      0.021    115.948      0.000       2.397       2.479\n",
      "humidity      -3.0292      0.024   -126.479      0.000      -3.076      -2.982\n",
      "windspeed     -0.1193      0.001   -176.164      0.000      -0.121      -0.118\n",
      "==============================================================================\n",
      "Omnibus:                     3935.747   Durbin-Watson:                   0.267\n",
      "Prob(Omnibus):                  0.000   Jarque-Bera (JB):             4613.311\n",
      "Skew:                          -0.478   Prob(JB):                         0.00\n",
      "Kurtosis:                       3.484   Cond. No.                         88.1\n",
      "==============================================================================\n",
      "\n",
      "Warnings:\n",
      "[1] Standard Errors assume that the covariance matrix of the errors is correctly specified.\n"
     ]
    }
   ],
   "source": [
    "#Use Humidity and Windspeed as feature set to explain temperature (Y-variable/Target)\n",
    "\n",
    "Y = weather_df['apparenttemperature'] - weather_df['temperature']\n",
    "X = weather_df[['humidity','windspeed']]\n",
    "\n",
    "# We add a constant to the model as it's a best practice\n",
    "# to do so every time!\n",
    "X = sm.add_constant(X)\n",
    "\n",
    "# We fit an OLS model using statsmodels\n",
    "results = sm.OLS(Y, X).fit()\n",
    "\n",
    "# We print the summary results\n",
    "print(results.summary())"
   ]
  },
  {
   "cell_type": "markdown",
   "metadata": {},
   "source": [
    "We see that the coefficients for both 'humidity' and 'windspeed' are statistically signficiant with p-values less than .01. Both expalanatory variables are negatively correlated with the difference in apparent temperature and measured temperature. We may interpret the coefficients to mean that for each 1 point increase in humidity we see a drop in 3 units of temperature. For every one unit change in 'windspeed', we see a drop of .12 units of temperature. "
   ]
  },
  {
   "cell_type": "markdown",
   "metadata": {},
   "source": [
    "## 2: Calculate interaction of humidity and windspeed"
   ]
  },
  {
   "cell_type": "code",
   "execution_count": 7,
   "metadata": {},
   "outputs": [
    {
     "data": {
      "text/html": [
       "<table class=\"simpletable\">\n",
       "<caption>OLS Regression Results</caption>\n",
       "<tr>\n",
       "  <th>Dep. Variable:</th>            <td>y</td>        <th>  R-squared:         </th>  <td>   0.341</td>  \n",
       "</tr>\n",
       "<tr>\n",
       "  <th>Model:</th>                   <td>OLS</td>       <th>  Adj. R-squared:    </th>  <td>   0.341</td>  \n",
       "</tr>\n",
       "<tr>\n",
       "  <th>Method:</th>             <td>Least Squares</td>  <th>  F-statistic:       </th>  <td>1.666e+04</td> \n",
       "</tr>\n",
       "<tr>\n",
       "  <th>Date:</th>             <td>Tue, 28 Apr 2020</td> <th>  Prob (F-statistic):</th>   <td>  0.00</td>   \n",
       "</tr>\n",
       "<tr>\n",
       "  <th>Time:</th>                 <td>14:32:44</td>     <th>  Log-Likelihood:    </th> <td>-1.6669e+05</td>\n",
       "</tr>\n",
       "<tr>\n",
       "  <th>No. Observations:</th>      <td> 96453</td>      <th>  AIC:               </th>  <td>3.334e+05</td> \n",
       "</tr>\n",
       "<tr>\n",
       "  <th>Df Residuals:</th>          <td> 96449</td>      <th>  BIC:               </th>  <td>3.334e+05</td> \n",
       "</tr>\n",
       "<tr>\n",
       "  <th>Df Model:</th>              <td>     3</td>      <th>                     </th>      <td> </td>     \n",
       "</tr>\n",
       "<tr>\n",
       "  <th>Covariance Type:</th>      <td>nonrobust</td>    <th>                     </th>      <td> </td>     \n",
       "</tr>\n",
       "</table>\n",
       "<table class=\"simpletable\">\n",
       "<tr>\n",
       "                 <td></td>                   <th>coef</th>     <th>std err</th>      <th>t</th>      <th>P>|t|</th>  <th>[0.025</th>    <th>0.975]</th>  \n",
       "</tr>\n",
       "<tr>\n",
       "  <th>const</th>                          <td>    0.0839</td> <td>    0.033</td> <td>    2.511</td> <td> 0.012</td> <td>    0.018</td> <td>    0.149</td>\n",
       "</tr>\n",
       "<tr>\n",
       "  <th>humidity</th>                       <td>    0.1775</td> <td>    0.043</td> <td>    4.133</td> <td> 0.000</td> <td>    0.093</td> <td>    0.262</td>\n",
       "</tr>\n",
       "<tr>\n",
       "  <th>windspeed</th>                      <td>    0.0905</td> <td>    0.002</td> <td>   36.797</td> <td> 0.000</td> <td>    0.086</td> <td>    0.095</td>\n",
       "</tr>\n",
       "<tr>\n",
       "  <th>humidity_windspeed_interaction</th> <td>   -0.2971</td> <td>    0.003</td> <td>  -88.470</td> <td> 0.000</td> <td>   -0.304</td> <td>   -0.291</td>\n",
       "</tr>\n",
       "</table>\n",
       "<table class=\"simpletable\">\n",
       "<tr>\n",
       "  <th>Omnibus:</th>       <td>4849.937</td> <th>  Durbin-Watson:     </th> <td>   0.265</td>\n",
       "</tr>\n",
       "<tr>\n",
       "  <th>Prob(Omnibus):</th>  <td> 0.000</td>  <th>  Jarque-Bera (JB):  </th> <td>9295.404</td>\n",
       "</tr>\n",
       "<tr>\n",
       "  <th>Skew:</th>           <td>-0.378</td>  <th>  Prob(JB):          </th> <td>    0.00</td>\n",
       "</tr>\n",
       "<tr>\n",
       "  <th>Kurtosis:</th>       <td> 4.320</td>  <th>  Cond. No.          </th> <td>    193.</td>\n",
       "</tr>\n",
       "</table><br/><br/>Warnings:<br/>[1] Standard Errors assume that the covariance matrix of the errors is correctly specified."
      ],
      "text/plain": [
       "<class 'statsmodels.iolib.summary.Summary'>\n",
       "\"\"\"\n",
       "                            OLS Regression Results                            \n",
       "==============================================================================\n",
       "Dep. Variable:                      y   R-squared:                       0.341\n",
       "Model:                            OLS   Adj. R-squared:                  0.341\n",
       "Method:                 Least Squares   F-statistic:                 1.666e+04\n",
       "Date:                Tue, 28 Apr 2020   Prob (F-statistic):               0.00\n",
       "Time:                        14:32:44   Log-Likelihood:            -1.6669e+05\n",
       "No. Observations:               96453   AIC:                         3.334e+05\n",
       "Df Residuals:                   96449   BIC:                         3.334e+05\n",
       "Df Model:                           3                                         \n",
       "Covariance Type:            nonrobust                                         \n",
       "==================================================================================================\n",
       "                                     coef    std err          t      P>|t|      [0.025      0.975]\n",
       "--------------------------------------------------------------------------------------------------\n",
       "const                              0.0839      0.033      2.511      0.012       0.018       0.149\n",
       "humidity                           0.1775      0.043      4.133      0.000       0.093       0.262\n",
       "windspeed                          0.0905      0.002     36.797      0.000       0.086       0.095\n",
       "humidity_windspeed_interaction    -0.2971      0.003    -88.470      0.000      -0.304      -0.291\n",
       "==============================================================================\n",
       "Omnibus:                     4849.937   Durbin-Watson:                   0.265\n",
       "Prob(Omnibus):                  0.000   Jarque-Bera (JB):             9295.404\n",
       "Skew:                          -0.378   Prob(JB):                         0.00\n",
       "Kurtosis:                       4.320   Cond. No.                         193.\n",
       "==============================================================================\n",
       "\n",
       "Warnings:\n",
       "[1] Standard Errors assume that the covariance matrix of the errors is correctly specified.\n",
       "\"\"\""
      ]
     },
     "execution_count": 7,
     "metadata": {},
     "output_type": "execute_result"
    }
   ],
   "source": [
    "# X interaction is the feature set\n",
    "weather_df['humidity_windspeed_interaction'] = weather_df.humidity * weather_df.windspeed\n",
    "\n",
    "# Y is the target variable\n",
    "Y = weather_df['apparenttemperature'] - weather_df['temperature']\n",
    "\n",
    "\n",
    "X = weather_df[['humidity','windspeed', 'humidity_windspeed_interaction']]\n",
    "\n",
    "X = sm.add_constant(X)\n",
    "\n",
    "results = sm.OLS(Y, X).fit()\n",
    "\n",
    "results.summary()"
   ]
  },
  {
   "cell_type": "markdown",
   "metadata": {},
   "source": [
    "### Interpretation: We captured non-linear relationships between the target temperature and the feature (interaction between humidity and windspeed). \n",
    "\n",
    "The new OLS Model is:\n",
    "\n",
    "Temperature = .0839 + .178(humidity) + .090(windspeed) -.30(humidity_windspeed_interaction)\n",
    "\n",
    "So we can interpret the above model as the following:\n",
    "Given a windspeed level, 1 point increase in humidity results in 0.18 - 0.30 X windspeed point increase in the target. This means that the increase in the target (temperature) is lower for high values of windspeed than for low values of windspeed. So, the windspeed mitigates the effect of humidity increase on the target. Similarly for a given humidity level, 1 point increase in the windspeed results in 0.09 - 0.30 X humidity point increase in the target. So, the humidity also mitigates the effect of windspeed on the target."
   ]
  }
 ],
 "metadata": {
  "kernelspec": {
   "display_name": "Python 3",
   "language": "python",
   "name": "python3"
  },
  "language_info": {
   "codemirror_mode": {
    "name": "ipython",
    "version": 3
   },
   "file_extension": ".py",
   "mimetype": "text/x-python",
   "name": "python",
   "nbconvert_exporter": "python",
   "pygments_lexer": "ipython3",
   "version": "3.7.4"
  }
 },
 "nbformat": 4,
 "nbformat_minor": 2
}
